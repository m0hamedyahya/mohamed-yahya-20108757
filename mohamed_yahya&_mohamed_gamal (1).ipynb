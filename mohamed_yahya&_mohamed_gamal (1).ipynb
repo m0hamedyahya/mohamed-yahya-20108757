{
  "nbformat": 4,
  "nbformat_minor": 0,
  "metadata": {
    "colab": {
      "provenance": []
    },
    "kernelspec": {
      "name": "python3",
      "display_name": "Python 3"
    },
    "language_info": {
      "name": "python"
    }
  },
  "cells": [
    {
      "cell_type": "code",
      "execution_count": 1,
      "metadata": {
        "colab": {
          "base_uri": "https://localhost:8080/"
        },
        "id": "LxjUq5UQk2pw",
        "outputId": "ba9f61ad-c113-4036-8a23-0fbcc41f757c"
      },
      "outputs": [
        {
          "output_type": "stream",
          "name": "stdout",
          "text": [
            "   ID gender  age  height(cm)  weight(kg)  waist(cm)  eyesight(left)  \\\n",
            "0   0      F   40         155          60       81.3             1.2   \n",
            "1   1      F   40         160          60       81.0             0.8   \n",
            "2   2      M   55         170          60       80.0             0.8   \n",
            "3   3      M   40         165          70       88.0             1.5   \n",
            "4   4      F   40         155          60       86.0             1.0   \n",
            "\n",
            "   eyesight(right)  hearing(left)  hearing(right)  ...  hemoglobin  \\\n",
            "0              1.0              1               1  ...        12.9   \n",
            "1              0.6              1               1  ...        12.7   \n",
            "2              0.8              1               1  ...        15.8   \n",
            "3              1.5              1               1  ...        14.7   \n",
            "4              1.0              1               1  ...        12.5   \n",
            "\n",
            "   Urine protein  serum creatinine  AST  ALT  Gtp  oral  dental caries  \\\n",
            "0              1               0.7   18   19   27     Y              0   \n",
            "1              1               0.6   22   19   18     Y              0   \n",
            "2              1               1.0   21   16   22     Y              0   \n",
            "3              1               1.0   19   26   18     Y              0   \n",
            "4              1               0.6   16   14   22     Y              0   \n",
            "\n",
            "   tartar  smoking  \n",
            "0       Y        0  \n",
            "1       Y        0  \n",
            "2       N        1  \n",
            "3       Y        0  \n",
            "4       N        0  \n",
            "\n",
            "[5 rows x 27 columns]\n"
          ]
        }
      ],
      "source": [
        "from sklearn.model_selection import train_test_split\n",
        "from sklearn.preprocessing import StandardScaler\n",
        "from sklearn.svm import SVC\n",
        "from sklearn.metrics import accuracy_score\n",
        "import pandas as pd\n",
        "from sklearn.preprocessing import LabelEncoder\n",
        "\n",
        "df = pd.read_csv('/smoking.csv')\n",
        "print(df.head())\n",
        "\n"
      ]
    },
    {
      "cell_type": "code",
      "source": [
        "mapping = {'Y': 1, 'N': 0}\n",
        "label_encoder = LabelEncoder()\n",
        "\n",
        "df['oral_encoded'] = df['oral'].map(mapping)\n",
        "df['tartar_encoded'] = df['tartar'].map(mapping)\n",
        "\n",
        "df.drop('oral', axis=1, inplace=True)\n",
        "df.drop('tartar', axis=1, inplace=True)\n",
        "\n",
        "\n",
        "mapping = {'M': 1, 'F': 0}\n",
        "df['gender_encoded'] = df['gender'].map(mapping)\n",
        "df.drop('gender', axis=1, inplace=True)\n",
        "\n",
        "df.drop('ID', axis=1, inplace=True)\n",
        "print(df.head())\n",
        "print(df.dtypes)"
      ],
      "metadata": {
        "colab": {
          "base_uri": "https://localhost:8080/"
        },
        "id": "gJ-343Gzt9MS",
        "outputId": "f6e9e4cd-a1c1-4ebf-c04a-fb0d34c42c79"
      },
      "execution_count": 2,
      "outputs": [
        {
          "output_type": "stream",
          "name": "stdout",
          "text": [
            "   age  height(cm)  weight(kg)  waist(cm)  eyesight(left)  eyesight(right)  \\\n",
            "0   40         155          60       81.3             1.2              1.0   \n",
            "1   40         160          60       81.0             0.8              0.6   \n",
            "2   55         170          60       80.0             0.8              0.8   \n",
            "3   40         165          70       88.0             1.5              1.5   \n",
            "4   40         155          60       86.0             1.0              1.0   \n",
            "\n",
            "   hearing(left)  hearing(right)  systolic  relaxation  ...  Urine protein  \\\n",
            "0              1               1       114          73  ...              1   \n",
            "1              1               1       119          70  ...              1   \n",
            "2              1               1       138          86  ...              1   \n",
            "3              1               1       100          60  ...              1   \n",
            "4              1               1       120          74  ...              1   \n",
            "\n",
            "   serum creatinine  AST  ALT  Gtp  dental caries  smoking  oral_encoded  \\\n",
            "0               0.7   18   19   27              0        0             1   \n",
            "1               0.6   22   19   18              0        0             1   \n",
            "2               1.0   21   16   22              0        1             1   \n",
            "3               1.0   19   26   18              0        0             1   \n",
            "4               0.6   16   14   22              0        0             1   \n",
            "\n",
            "   tartar_encoded  gender_encoded  \n",
            "0               1               0  \n",
            "1               1               0  \n",
            "2               0               1  \n",
            "3               1               1  \n",
            "4               0               0  \n",
            "\n",
            "[5 rows x 26 columns]\n",
            "age                      int64\n",
            "height(cm)               int64\n",
            "weight(kg)               int64\n",
            "waist(cm)              float64\n",
            "eyesight(left)         float64\n",
            "eyesight(right)        float64\n",
            "hearing(left)            int64\n",
            "hearing(right)           int64\n",
            "systolic                 int64\n",
            "relaxation               int64\n",
            "fasting blood sugar      int64\n",
            "Cholesterol              int64\n",
            "triglyceride             int64\n",
            "HDL                      int64\n",
            "LDL                      int64\n",
            "hemoglobin             float64\n",
            "Urine protein            int64\n",
            "serum creatinine       float64\n",
            "AST                      int64\n",
            "ALT                      int64\n",
            "Gtp                      int64\n",
            "dental caries            int64\n",
            "smoking                  int64\n",
            "oral_encoded             int64\n",
            "tartar_encoded           int64\n",
            "gender_encoded           int64\n",
            "dtype: object\n"
          ]
        }
      ]
    },
    {
      "cell_type": "code",
      "source": [
        "df.isnull().sum().sum()\n",
        "df.shape"
      ],
      "metadata": {
        "colab": {
          "base_uri": "https://localhost:8080/"
        },
        "id": "4VHlPPCH3Nu0",
        "outputId": "4ee7c6d4-3379-4689-864e-9a1da4ccb5fb"
      },
      "execution_count": 3,
      "outputs": [
        {
          "output_type": "execute_result",
          "data": {
            "text/plain": [
              "(10475, 26)"
            ]
          },
          "metadata": {},
          "execution_count": 3
        }
      ]
    },
    {
      "cell_type": "code",
      "source": [
        "from sklearn.metrics import accuracy_score, precision_score, recall_score,f1_score\n",
        "X = df.drop('smoking', axis=1)\n",
        "y = df['smoking']\n",
        "\n",
        "# Splitting the data into training and testing sets\n",
        "X_train, X_test, y_train, y_test = train_test_split(X, y, test_size=0.2, random_state=42)\n",
        "\n",
        "# Standardizing the features\n",
        "scaler = StandardScaler()\n",
        "X_train_scaled = scaler.fit_transform(X_train)\n",
        "X_test_scaled = scaler.transform(X_test)\n",
        "\n",
        "# Creating an SVM model\n",
        "svm_model = SVC(kernel='linear', C=1.0, random_state=42)\n",
        "\n",
        "# Training the model\n",
        "svm_model.fit(X_train_scaled, y_train)\n",
        "\n",
        "# Making predictions\n",
        "y_pred = svm_model.predict(X_test_scaled)\n",
        "\n",
        "# Evaluating the model\n",
        "accuracy = accuracy_score(y_test, y_pred)\n",
        "precision = precision_score(y_test, y_pred, average='weighted')\n",
        "recall = recall_score(y_test, y_pred, average='weighted')\n",
        "f1 = f1_score(y_test, y_pred, average='weighted')\n",
        "\n",
        "print(f\"Accuracy: {accuracy}\")\n",
        "print(f\"Precision (with feature selection): {precision}\")\n",
        "print(f\"Recall (with feature selection): {recall}\")\n",
        "print(f\"F1 Score (with feature selection): {f1}\")"
      ],
      "metadata": {
        "colab": {
          "base_uri": "https://localhost:8080/"
        },
        "id": "ahsRBtPamLjq",
        "outputId": "1d83b602-43ee-44d8-950a-2cd06e3afc22"
      },
      "execution_count": 23,
      "outputs": [
        {
          "output_type": "stream",
          "name": "stdout",
          "text": [
            "Accuracy: 0.7436754176610979\n",
            "Precision (with feature selection): 0.7459986406745531\n",
            "Recall (with feature selection): 0.7436754176610979\n",
            "F1 Score (with feature selection): 0.744692629339903\n"
          ]
        }
      ]
    },
    {
      "cell_type": "code",
      "source": [
        "columnsName = df.drop(labels= 'smoking', axis= 1).columns.values.tolist()\n",
        "print(columnsName)"
      ],
      "metadata": {
        "colab": {
          "base_uri": "https://localhost:8080/"
        },
        "id": "NEMgHEU3ALXe",
        "outputId": "1752b55c-62af-4404-a9b4-f19e12c9c92c"
      },
      "execution_count": 5,
      "outputs": [
        {
          "output_type": "stream",
          "name": "stdout",
          "text": [
            "['age', 'height(cm)', 'weight(kg)', 'waist(cm)', 'eyesight(left)', 'eyesight(right)', 'hearing(left)', 'hearing(right)', 'systolic', 'relaxation', 'fasting blood sugar', 'Cholesterol', 'triglyceride', 'HDL', 'LDL', 'hemoglobin', 'Urine protein', 'serum creatinine', 'AST', 'ALT', 'Gtp', 'dental caries', 'oral_encoded', 'tartar_encoded', 'gender_encoded']\n"
          ]
        }
      ]
    },
    {
      "cell_type": "code",
      "source": [
        "import random\n",
        "columnsName1=[0,1]\n",
        "chromosomes=[]\n",
        "for i in range(10):\n",
        "    chro1=[]\n",
        "    for i in range(25):\n",
        "        item = random.choice(tuple(columnsName1))\n",
        "        chro1.append(item)\n",
        "    chromosomes.append(chro1)"
      ],
      "metadata": {
        "id": "Mz2uPAErA7Hu"
      },
      "execution_count": 6,
      "outputs": []
    },
    {
      "cell_type": "code",
      "source": [
        "print(chromosomes)"
      ],
      "metadata": {
        "colab": {
          "base_uri": "https://localhost:8080/"
        },
        "id": "2BIkjEUxCkAt",
        "outputId": "a2e42e86-4623-4d5d-cfe3-7262ffbcc656"
      },
      "execution_count": 7,
      "outputs": [
        {
          "output_type": "stream",
          "name": "stdout",
          "text": [
            "[[1, 0, 1, 1, 1, 1, 1, 1, 0, 0, 1, 0, 0, 0, 0, 0, 0, 0, 0, 1, 1, 1, 0, 1, 1], [0, 0, 0, 0, 1, 1, 1, 0, 1, 0, 0, 1, 1, 1, 1, 1, 0, 1, 1, 1, 0, 1, 1, 1, 1], [0, 1, 1, 0, 1, 1, 1, 0, 0, 0, 0, 1, 1, 1, 1, 0, 1, 0, 0, 1, 0, 0, 0, 1, 0], [1, 0, 0, 0, 0, 1, 0, 1, 0, 0, 0, 0, 1, 0, 1, 1, 0, 0, 1, 1, 0, 0, 0, 0, 1], [1, 0, 0, 1, 0, 0, 1, 0, 0, 0, 0, 1, 0, 1, 1, 1, 1, 1, 0, 0, 1, 1, 0, 1, 0], [0, 0, 1, 1, 1, 1, 0, 1, 1, 1, 0, 1, 1, 0, 1, 1, 0, 1, 1, 1, 1, 1, 0, 0, 1], [0, 1, 1, 0, 1, 1, 1, 0, 1, 0, 1, 0, 1, 0, 0, 0, 1, 1, 0, 1, 0, 0, 1, 1, 0], [0, 0, 1, 1, 1, 0, 1, 1, 1, 0, 0, 0, 1, 0, 0, 0, 1, 0, 0, 0, 0, 1, 0, 0, 1], [1, 1, 0, 0, 0, 0, 0, 0, 1, 1, 0, 0, 1, 1, 0, 0, 1, 1, 0, 0, 0, 0, 0, 0, 0], [0, 1, 1, 0, 0, 0, 0, 1, 1, 1, 1, 1, 0, 1, 0, 0, 1, 0, 0, 1, 0, 1, 0, 1, 0]]\n"
          ]
        }
      ]
    },
    {
      "cell_type": "code",
      "source": [
        "def data(chromosomes1):\n",
        "    chromosomes2=[]\n",
        "    for i in range(len(chromosomes1)):\n",
        "        if chromosomes1[i]==1:\n",
        "                chromosomes2.append(columnsName[i])\n",
        "\n",
        "    return chromosomes2"
      ],
      "metadata": {
        "id": "NRr9kXyIBnz9"
      },
      "execution_count": 8,
      "outputs": []
    },
    {
      "cell_type": "code",
      "source": [
        "from sklearn.linear_model import LogisticRegression\n",
        "def calaculate_accuracy(x):\n",
        "    X=df[x]\n",
        "    X_train, X_test, y_train, y_test = train_test_split(X, y, test_size= 0.30)\n",
        "    lgt_R = LogisticRegression(solver='lbfgs')\n",
        "    lgt_R.fit(X_train, y_train)\n",
        "    y_pred = lgt_R.predict(X_test)\n",
        "    accuracy = accuracy_score(y_test, y_pred)\n",
        "    print('Accuracy:', accuracy)\n",
        "    return accuracy"
      ],
      "metadata": {
        "id": "il2ngDGEB9rP"
      },
      "execution_count": 9,
      "outputs": []
    },
    {
      "cell_type": "code",
      "source": [
        "import warnings\n",
        "warnings.filterwarnings(\"ignore\")\n",
        "pb=[]\n",
        "def checkpersonalnest():\n",
        "    for i in range(len(chromosomes)):\n",
        "         pb.append(calaculate_accuracy(data(chromosomes[i])))\n",
        "checkpersonalnest()"
      ],
      "metadata": {
        "colab": {
          "base_uri": "https://localhost:8080/"
        },
        "id": "YuM2jbAuCYK-",
        "outputId": "082dccea-547d-4ec7-dcdf-fe09aced0330"
      },
      "execution_count": 10,
      "outputs": [
        {
          "output_type": "stream",
          "name": "stdout",
          "text": [
            "Accuracy: 0.7155583837098314\n",
            "Accuracy: 0.7295577473751194\n",
            "Accuracy: 0.683423480750875\n",
            "Accuracy: 0.7126948775055679\n",
            "Accuracy: 0.7047406936048362\n",
            "Accuracy: 0.7368755965637925\n",
            "Accuracy: 0.6831053133948457\n",
            "Accuracy: 0.7286032453070315\n",
            "Accuracy: 0.6745147947820553\n",
            "Accuracy: 0.6796054724785237\n"
          ]
        }
      ]
    },
    {
      "cell_type": "code",
      "source": [
        "import numpy as np\n",
        "def checkvelocity(globalbest):\n",
        "    velocity=[]\n",
        "    for j in range(len(chromosomes)):\n",
        "        velocity.append(list(0+1*(np.random.random(1)[0])*(np.array(chromosomes[j])-np.array(chromosomes[j]))+1*(np.random.random(1)[0])*(np.array(globalbest)-np.array(chromosomes[j]))))\n",
        "    #print(velocity)\n",
        "    return velocity"
      ],
      "metadata": {
        "id": "hEGSyCIufZOf"
      },
      "execution_count": 11,
      "outputs": []
    },
    {
      "cell_type": "code",
      "source": [
        "def addingchromosomes(velocity):\n",
        "    chromosomes2=[]\n",
        "    for i in range(len(velocity)):\n",
        "        nextchromo=[]\n",
        "        for j in range(len(velocity[i])):\n",
        "            nextchromo.append(chromosomes[i][j]+velocity[i][j])\n",
        "        chromosomes2.append(nextchromo)\n",
        "    return chromosomes2"
      ],
      "metadata": {
        "id": "ml7Ui_YBf2MP"
      },
      "execution_count": 12,
      "outputs": []
    },
    {
      "cell_type": "code",
      "source": [
        "def normalize(chromosomes2):\n",
        "    for l in range(len(chromosomes2)):\n",
        "        for m in range(len(chromosomes2[l])):\n",
        "            if chromosomes2[l][m]>0.5:\n",
        "                chromosomes2[l][m]=1\n",
        "            else:\n",
        "                chromosomes2[l][m]=0\n",
        "    return chromosomes2"
      ],
      "metadata": {
        "id": "fNNAr9OPgBU-"
      },
      "execution_count": 13,
      "outputs": []
    },
    {
      "cell_type": "code",
      "source": [
        "def checkpd(chromosomes2):\n",
        "    personal=[]\n",
        "    for i in range(len(chromosomes2)):\n",
        "        personal.append(calaculate_accuracy(data(chromosomes2[i])))\n",
        "    for j in range(len(personal)):\n",
        "        if(personal[j]>pb[j]):\n",
        "            chromosomes[j]=chromosomes2[j]\n",
        "            pb[j]=personal[j]\n",
        "    return personal"
      ],
      "metadata": {
        "id": "3ZwILNvtgRhP"
      },
      "execution_count": 14,
      "outputs": []
    },
    {
      "cell_type": "code",
      "source": [
        "max(pb)\n",
        "ind = pb.index(max(pb))\n",
        "globalbest=chromosomes[ind]\n",
        "for i in range(10):\n",
        "    chromosomes2=[]\n",
        "    personal=[]\n",
        "    velocity=checkvelocity(globalbest)\n",
        "    chromosomes2=addingchromosomes(velocity)\n",
        "    chromosomes2=normalize(chromosomes2)\n",
        "    personal=checkpd(chromosomes2)\n",
        "    globalbest=[]\n",
        "    max(pb)\n",
        "    ind = pb.index(max(pb))\n",
        "    globalbest=chromosomes[ind]"
      ],
      "metadata": {
        "colab": {
          "base_uri": "https://localhost:8080/"
        },
        "id": "kklsP83ifYcX",
        "outputId": "270489e3-a80d-495b-9568-6784f026b8df"
      },
      "execution_count": 15,
      "outputs": [
        {
          "output_type": "stream",
          "name": "stdout",
          "text": [
            "Accuracy: 0.7225580655424754\n",
            "Accuracy: 0.720967228762329\n",
            "Accuracy: 0.7499204581609927\n",
            "Accuracy: 0.7212853961183583\n",
            "Accuracy: 0.7146038816417436\n",
            "Accuracy: 0.7031498568246898\n",
            "Accuracy: 0.688195991091314\n",
            "Accuracy: 0.7263760738148266\n",
            "Accuracy: 0.734966592427617\n",
            "Accuracy: 0.6697422844416163\n",
            "Accuracy: 0.7251034043907095\n",
            "Accuracy: 0.7308304167992364\n",
            "Accuracy: 0.7216035634743875\n",
            "Accuracy: 0.7426026089723194\n",
            "Accuracy: 0.7012408526885141\n",
            "Accuracy: 0.720967228762329\n",
            "Accuracy: 0.7295577473751194\n",
            "Accuracy: 0.7251034043907095\n",
            "Accuracy: 0.7311485841552656\n",
            "Accuracy: 0.7222398981864461\n",
            "Accuracy: 0.7104677060133631\n",
            "Accuracy: 0.7276487432389437\n",
            "Accuracy: 0.713967546929685\n",
            "Accuracy: 0.7295577473751194\n",
            "Accuracy: 0.7438752783964365\n",
            "Accuracy: 0.7222398981864461\n",
            "Accuracy: 0.7432389436843779\n",
            "Accuracy: 0.7126948775055679\n",
            "Accuracy: 0.7171492204899778\n",
            "Accuracy: 0.7333757556474706\n",
            "Accuracy: 0.7368755965637925\n",
            "Accuracy: 0.7251034043907095\n",
            "Accuracy: 0.7311485841552656\n",
            "Accuracy: 0.7324212535793827\n",
            "Accuracy: 0.7324212535793827\n",
            "Accuracy: 0.7238307349665924\n",
            "Accuracy: 0.7171492204899778\n",
            "Accuracy: 0.7260579064587973\n",
            "Accuracy: 0.7222398981864461\n",
            "Accuracy: 0.7381482659879096\n",
            "Accuracy: 0.7276487432389437\n",
            "Accuracy: 0.7216035634743875\n",
            "Accuracy: 0.7244670696786509\n",
            "Accuracy: 0.7228762328985047\n",
            "Accuracy: 0.7177855552020362\n",
            "Accuracy: 0.7228762328985047\n",
            "Accuracy: 0.7333757556474706\n",
            "Accuracy: 0.7184218899140948\n",
            "Accuracy: 0.7190582246261533\n",
            "Accuracy: 0.7365574292077632\n",
            "Accuracy: 0.7352847597836462\n",
            "Accuracy: 0.7098313713013045\n",
            "Accuracy: 0.7324212535793827\n",
            "Accuracy: 0.7286032453070315\n",
            "Accuracy: 0.717467387846007\n",
            "Accuracy: 0.7286032453070315\n",
            "Accuracy: 0.7184218899140948\n",
            "Accuracy: 0.7273305758829144\n",
            "Accuracy: 0.7190582246261533\n",
            "Accuracy: 0.7365574292077632\n",
            "Accuracy: 0.7200127266942412\n",
            "Accuracy: 0.736239261851734\n",
            "Accuracy: 0.7235125676105632\n",
            "Accuracy: 0.7225580655424754\n",
            "Accuracy: 0.7187400572701241\n",
            "Accuracy: 0.7203308940502704\n",
            "Accuracy: 0.7292395800190901\n",
            "Accuracy: 0.720967228762329\n",
            "Accuracy: 0.7321030862233535\n",
            "Accuracy: 0.720967228762329\n",
            "Accuracy: 0.7184218899140948\n",
            "Accuracy: 0.7400572701240853\n",
            "Accuracy: 0.7206490614062997\n",
            "Accuracy: 0.7321030862233535\n",
            "Accuracy: 0.7496022908049634\n",
            "Accuracy: 0.7311485841552656\n",
            "Accuracy: 0.7171492204899778\n",
            "Accuracy: 0.7053770283168946\n",
            "Accuracy: 0.7155583837098314\n",
            "Accuracy: 0.732739420935412\n",
            "Accuracy: 0.7346484250715877\n",
            "Accuracy: 0.7235125676105632\n",
            "Accuracy: 0.7375119312758511\n",
            "Accuracy: 0.7216035634743875\n",
            "Accuracy: 0.7216035634743875\n",
            "Accuracy: 0.717467387846007\n",
            "Accuracy: 0.734966592427617\n",
            "Accuracy: 0.7333757556474706\n",
            "Accuracy: 0.7311485841552656\n",
            "Accuracy: 0.7289214126630608\n",
            "Accuracy: 0.7228762328985047\n",
            "Accuracy: 0.7295577473751194\n",
            "Accuracy: 0.7416481069042317\n",
            "Accuracy: 0.7158765510658607\n",
            "Accuracy: 0.7311485841552656\n",
            "Accuracy: 0.7149220489977728\n",
            "Accuracy: 0.7063315303849825\n",
            "Accuracy: 0.7301940820871778\n",
            "Accuracy: 0.7241489023226217\n",
            "Accuracy: 0.7260579064587973\n"
          ]
        }
      ]
    },
    {
      "cell_type": "code",
      "source": [
        "max(pb)"
      ],
      "metadata": {
        "colab": {
          "base_uri": "https://localhost:8080/"
        },
        "id": "6xIUbO8Kghev",
        "outputId": "88051ae5-2a56-49ba-e450-d0bbeb690393"
      },
      "execution_count": 16,
      "outputs": [
        {
          "output_type": "execute_result",
          "data": {
            "text/plain": [
              "0.7499204581609927"
            ]
          },
          "metadata": {},
          "execution_count": 16
        }
      ]
    },
    {
      "cell_type": "code",
      "source": [
        "ind = pb.index(max(pb))\n",
        "globalbest=chromosomes[ind]\n",
        "print(data(globalbest))"
      ],
      "metadata": {
        "colab": {
          "base_uri": "https://localhost:8080/"
        },
        "id": "z6Qc8a2VsOhi",
        "outputId": "ddb719ef-b02c-4eae-9b2b-b0f04b8f99b1"
      },
      "execution_count": 17,
      "outputs": [
        {
          "output_type": "stream",
          "name": "stdout",
          "text": [
            "['weight(kg)', 'waist(cm)', 'eyesight(left)', 'eyesight(right)', 'hearing(right)', 'systolic', 'relaxation', 'Cholesterol', 'triglyceride', 'LDL', 'hemoglobin', 'serum creatinine', 'AST', 'ALT', 'Gtp', 'dental caries', 'gender_encoded']\n"
          ]
        }
      ]
    }
  ]
}